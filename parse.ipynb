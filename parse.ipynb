{
 "cells": [
  {
   "cell_type": "markdown",
   "metadata": {},
   "source": [
    "# Parse the excel spreadsheet into a tidy format"
   ]
  },
  {
   "cell_type": "code",
   "execution_count": 1,
   "metadata": {
    "collapsed": true
   },
   "outputs": [],
   "source": [
    "import os\n",
    "import itertools\n",
    "\n",
    "import pandas\n",
    "import numpy"
   ]
  },
  {
   "cell_type": "code",
   "execution_count": 2,
   "metadata": {
    "collapsed": true
   },
   "outputs": [],
   "source": [
    "# publishers in order of how they appear in the spreadsheet\n",
    "publishers = [\n",
    "    'Elsevier',\n",
    "    'Wiley',\n",
    "    'Springer',\n",
    "    'Taylor & Francis',\n",
    "    'Sage',\n",
    "    'Oxford University Press',\n",
    "    'Cambridge University Press',\n",
    "    'Nature Publishing Group',\n",
    "    'Royal Society of Chemistry',\n",
    "    'Institute of Physics Publishing',\n",
    "]\n",
    "\n",
    "# years in order of how they appear in the spreadsheet\n",
    "years = list(range(2010, 2015))"
   ]
  },
  {
   "cell_type": "code",
   "execution_count": 3,
   "metadata": {
    "collapsed": false
   },
   "outputs": [
    {
     "name": "stdout",
     "output_type": "stream",
     "text": [
      "--2015-06-05 13:59:17--  http://files.figshare.com/2096947/Journal_publishing_cost_FOIs_UK_universities.xlsx\n",
      "Resolving files.figshare.com (files.figshare.com)... 54.231.129.52\n",
      "Connecting to files.figshare.com (files.figshare.com)|54.231.129.52|:80... connected.\n",
      "HTTP request sent, awaiting response... 200 OK\n",
      "Length: 121697 (119K) [application/vnd.openxmlformats-officedocument.spreadsheetml.sheet]\n",
      "Server file no newer than local file ‘download/Journal_publishing_cost_FOIs_UK_universities.xlsx’ -- not retrieving.\n",
      "\n"
     ]
    }
   ],
   "source": [
    "url = 'http://files.figshare.com/2096947/Journal_publishing_cost_FOIs_UK_universities.xlsx'\n",
    "! wget --directory-prefix=download/ --timestamping $url"
   ]
  },
  {
   "cell_type": "code",
   "execution_count": 4,
   "metadata": {
    "collapsed": false
   },
   "outputs": [],
   "source": [
    "# read excel spreadsheet from figshare\n",
    "path = os.path.join('download', 'Journal_publishing_cost_FOIs_UK_universities.xlsx')\n",
    "cost_df = pandas.read_excel(path, sheet='Responses', skiprows=1)[:-2]\n",
    "\n",
    "# add column names\n",
    "id_vars = ['university', 'total']\n",
    "value_vars = ['{} | {}'.format(p, y) for p, y in itertools.product(publishers, years)]\n",
    "cost_df.columns = id_vars + value_vars\n",
    "\n",
    "# Round total costs\n",
    "cost_df.total = numpy.around(cost_df.total, decimals=2)\n",
    "\n",
    "# gather data into a tidy format\n",
    "cost_df = pandas.melt(cost_df, id_vars=id_vars, var_name='publisher_year', value_name='cost')\n",
    "\n",
    "# drop observations with missing values\n",
    "cost_df = cost_df.dropna()\n",
    "\n",
    "# separate the combined publisher and year column \n",
    "py_df = cost_df.publisher_year.str.split(r' \\| ', expand=True)\n",
    "py_df.columns = ['publisher', 'year']\n",
    "cost_df = py_df.join(cost_df)\n",
    "cost_df = cost_df.drop('publisher_year', axis=1)\n",
    "\n",
    "# convert cost to date\n",
    "cost_df.year = cost_df.year.convert_objects(convert_dates=True)"
   ]
  },
  {
   "cell_type": "code",
   "execution_count": 5,
   "metadata": {
    "collapsed": false
   },
   "outputs": [
    {
     "data": {
      "text/html": [
       "<div style=\"max-height:1000px;max-width:1500px;overflow:auto;\">\n",
       "<table border=\"1\" class=\"dataframe\">\n",
       "  <thead>\n",
       "    <tr style=\"text-align: right;\">\n",
       "      <th></th>\n",
       "      <th>publisher</th>\n",
       "      <th>year</th>\n",
       "      <th>university</th>\n",
       "      <th>total</th>\n",
       "      <th>cost</th>\n",
       "    </tr>\n",
       "  </thead>\n",
       "  <tbody>\n",
       "    <tr>\n",
       "      <th>4327</th>\n",
       "      <td>Oxford University Press</td>\n",
       "      <td>2013</td>\n",
       "      <td>University of Essex</td>\n",
       "      <td>1796512.34</td>\n",
       "      <td>£30,089,45</td>\n",
       "    </tr>\n",
       "    <tr>\n",
       "      <th>4742</th>\n",
       "      <td>Cambridge University Press</td>\n",
       "      <td>2010</td>\n",
       "      <td>York St John University</td>\n",
       "      <td>769711.00</td>\n",
       "      <td>£3 631</td>\n",
       "    </tr>\n",
       "  </tbody>\n",
       "</table>\n",
       "</div>"
      ],
      "text/plain": [
       "                       publisher  year               university       total  \\\n",
       "4327     Oxford University Press  2013      University of Essex  1796512.34   \n",
       "4742  Cambridge University Press  2010  York St John University   769711.00   \n",
       "\n",
       "            cost  \n",
       "4327  £30,089,45  \n",
       "4742      £3 631  "
      ]
     },
     "execution_count": 5,
     "metadata": {},
     "output_type": "execute_result"
    }
   ],
   "source": [
    "# show rows with invalid costs\n",
    "converted_cost = cost_df.cost.convert_objects(convert_numeric=True)\n",
    "cost_df[converted_cost.isnull()]"
   ]
  },
  {
   "cell_type": "code",
   "execution_count": 6,
   "metadata": {
    "collapsed": false
   },
   "outputs": [
    {
     "data": {
      "text/html": [
       "<div style=\"max-height:1000px;max-width:1500px;overflow:auto;\">\n",
       "<table border=\"1\" class=\"dataframe\">\n",
       "  <thead>\n",
       "    <tr style=\"text-align: right;\">\n",
       "      <th></th>\n",
       "      <th>publisher</th>\n",
       "      <th>year</th>\n",
       "      <th>university</th>\n",
       "      <th>total</th>\n",
       "      <th>cost</th>\n",
       "    </tr>\n",
       "  </thead>\n",
       "  <tbody>\n",
       "    <tr>\n",
       "      <th>5887</th>\n",
       "      <td>Institute of Physics Publishing</td>\n",
       "      <td>2014</td>\n",
       "      <td>University of West London</td>\n",
       "      <td>61817.41</td>\n",
       "      <td>0</td>\n",
       "    </tr>\n",
       "    <tr>\n",
       "      <th>5888</th>\n",
       "      <td>Institute of Physics Publishing</td>\n",
       "      <td>2014</td>\n",
       "      <td>University of Winchester</td>\n",
       "      <td>953812.42</td>\n",
       "      <td>0</td>\n",
       "    </tr>\n",
       "    <tr>\n",
       "      <th>5889</th>\n",
       "      <td>Institute of Physics Publishing</td>\n",
       "      <td>2014</td>\n",
       "      <td>Writtle College</td>\n",
       "      <td>0.00</td>\n",
       "      <td>0</td>\n",
       "    </tr>\n",
       "    <tr>\n",
       "      <th>5890</th>\n",
       "      <td>Institute of Physics Publishing</td>\n",
       "      <td>2014</td>\n",
       "      <td>University of York</td>\n",
       "      <td>6142532.23</td>\n",
       "      <td>46345</td>\n",
       "    </tr>\n",
       "    <tr>\n",
       "      <th>5891</th>\n",
       "      <td>Institute of Physics Publishing</td>\n",
       "      <td>2014</td>\n",
       "      <td>York St John University</td>\n",
       "      <td>769711.00</td>\n",
       "      <td>0</td>\n",
       "    </tr>\n",
       "  </tbody>\n",
       "</table>\n",
       "</div>"
      ],
      "text/plain": [
       "                            publisher  year                 university  \\\n",
       "5887  Institute of Physics Publishing  2014  University of West London   \n",
       "5888  Institute of Physics Publishing  2014   University of Winchester   \n",
       "5889  Institute of Physics Publishing  2014            Writtle College   \n",
       "5890  Institute of Physics Publishing  2014         University of York   \n",
       "5891  Institute of Physics Publishing  2014    York St John University   \n",
       "\n",
       "           total   cost  \n",
       "5887    61817.41      0  \n",
       "5888   953812.42      0  \n",
       "5889        0.00      0  \n",
       "5890  6142532.23  46345  \n",
       "5891   769711.00      0  "
      ]
     },
     "execution_count": 6,
     "metadata": {},
     "output_type": "execute_result"
    }
   ],
   "source": [
    "# remove rows with invalid costs\n",
    "cost_df.cost = converted_cost\n",
    "cost_df.dropna()\n",
    "cost_df = cost_df.reset_index(drop=True)\n",
    "cost_df.tail()"
   ]
  },
  {
   "cell_type": "code",
   "execution_count": 7,
   "metadata": {
    "collapsed": true
   },
   "outputs": [],
   "source": [
    "# save tidy dataframe as a tsv\n",
    "cost_df.to_csv(os.path.join('data', 'subscriptions.tsv'), index=False, sep='\\t')"
   ]
  }
 ],
 "metadata": {
  "kernelspec": {
   "display_name": "Python 3",
   "language": "python",
   "name": "python3"
  },
  "language_info": {
   "codemirror_mode": {
    "name": "ipython",
    "version": 3
   },
   "file_extension": ".py",
   "mimetype": "text/x-python",
   "name": "python",
   "nbconvert_exporter": "python",
   "pygments_lexer": "ipython3",
   "version": "3.4.3"
  }
 },
 "nbformat": 4,
 "nbformat_minor": 0
}
